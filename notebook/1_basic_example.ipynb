{
 "cells": [
  {
   "cell_type": "code",
   "execution_count": 42,
   "id": "initial_id",
   "metadata": {
    "collapsed": true,
    "ExecuteTime": {
     "end_time": "2024-03-31T18:01:00.687302Z",
     "start_time": "2024-03-31T18:01:00.684716Z"
    }
   },
   "outputs": [],
   "source": [
    "import autogen\n",
    "from aitools_autogen.config import llm_config_llama2\n"
   ]
  },
  {
   "cell_type": "code",
   "outputs": [],
   "source": [
    "config_list_openai = [\n",
    "    {\n",
    "        'base_url': 'http://aitools.cs.vt.edu:7860/openai/v1',\n",
    "        'api_key': 'aitools',\n",
    "        'model': 'gpt-4-turbo-preview',\n",
    "    }\n",
    "]\n",
    "\n",
    "llm_config_openai = {\n",
    "    \"timeout\": 300,\n",
    "    \"seed\": 42,\n",
    "    \"config_list\": config_list_openai,\n",
    "    \"temperature\": 0.1,\n",
    "    \"allow_format_str_template\": True\n",
    "}\n",
    "\n",
    "# Define an assistant coder using the LLM\n",
    "coder = autogen.AssistantAgent(\n",
    "    name=\"Coder\",\n",
    "    llm_config=llm_config_openai,\n",
    "    system_message=\"\"\"\n",
    "    You are a professional Python coder, known for your insightful and engaging solutions with explanations to coding problems.\n",
    "    You produce Python code in response to coding problems.  You do not comment on feedback, you respond ONLY with code.\n",
    "    You should improve the quality of the code based on the feedback from the user.\n",
    "    When the user indicates your code is acceptable, send a TERMINATE message.\n",
    "    \"\"\",\n",
    ")\n"
   ],
   "metadata": {
    "collapsed": false,
    "ExecuteTime": {
     "end_time": "2024-03-31T18:01:00.698074Z",
     "start_time": "2024-03-31T18:01:00.688674Z"
    }
   },
   "id": "9b1a5cad4379f63e",
   "execution_count": 43
  },
  {
   "cell_type": "code",
   "outputs": [
    {
     "name": "stdout",
     "output_type": "stream",
     "text": [
      "[autogen.oai.client: 03-31 11:01:00] {123} WARNING - The API key specified is not a valid OpenAI format; it won't work with the OpenAI-hosted model.\n"
     ]
    }
   ],
   "source": [
    "# Define the user proxy, the driver of the conversation who has ability to execute code.\n",
    "user_proxy = autogen.UserProxyAgent(\n",
    "    name=\"User\",\n",
    "    human_input_mode=\"NEVER\",\n",
    "    is_termination_msg=lambda x: x.get(\"content\", \"\").find(\"TERMINATE\") >= 0,\n",
    "    max_consecutive_auto_reply=6, # stop infinite chat loops\n",
    "    code_execution_config={\n",
    "        \"last_n_messages\": 1,\n",
    "        \"work_dir\": \"tasks\",\n",
    "        \"use_docker\": False,\n",
    "    },\n",
    "    llm_config=llm_config_llama2\n",
    ")"
   ],
   "metadata": {
    "collapsed": false,
    "ExecuteTime": {
     "end_time": "2024-03-31T18:01:00.709113Z",
     "start_time": "2024-03-31T18:01:00.698832Z"
    }
   },
   "id": "85b53c56b74dfbd7",
   "execution_count": 44
  },
  {
   "cell_type": "code",
   "outputs": [],
   "source": [
    "# Example Task\n",
    "task = f\"\"\"\n",
    "Write a function in Python to sort an array of integers using quicksort.\n",
    "\"\"\"\n"
   ],
   "metadata": {
    "collapsed": false,
    "ExecuteTime": {
     "end_time": "2024-03-31T18:01:00.711882Z",
     "start_time": "2024-03-31T18:01:00.710381Z"
    }
   },
   "id": "68acd8c39dc60b04",
   "execution_count": 45
  },
  {
   "cell_type": "code",
   "outputs": [
    {
     "name": "stderr",
     "output_type": "stream",
     "text": [
      "No default IOStream has been set, defaulting to IOConsole.\n",
      "No default IOStream has been set, defaulting to IOConsole.\n",
      "No default IOStream has been set, defaulting to IOConsole.\n"
     ]
    },
    {
     "name": "stdout",
     "output_type": "stream",
     "text": [
      "\u001B[33mUser\u001B[0m (to Coder):\n",
      "\n",
      "\n",
      "Write a function in Python to sort an array of integers using quicksort.\n",
      "\n",
      "\n",
      "--------------------------------------------------------------------------------\n"
     ]
    },
    {
     "name": "stderr",
     "output_type": "stream",
     "text": [
      "No default IOStream has been set, defaulting to IOConsole.\n",
      "No default IOStream has been set, defaulting to IOConsole.\n",
      "No default IOStream has been set, defaulting to IOConsole.\n"
     ]
    },
    {
     "name": "stdout",
     "output_type": "stream",
     "text": [
      "\u001B[33mCoder\u001B[0m (to User):\n",
      "\n",
      "```python\n",
      "def quicksort(arr):\n",
      "    if len(arr) <= 1:\n",
      "        return arr\n",
      "    pivot = arr[len(arr) // 2]\n",
      "    left = [x for x in arr if x < pivot]\n",
      "    middle = [x for x in arr if x == pivot]\n",
      "    right = [x for x in arr if x > pivot]\n",
      "    return quicksort(left) + middle + quicksort(right)\n",
      "\n",
      "# Example usage\n",
      "arr = [3, 6, 8, 10, 1, 2, 1]\n",
      "print(quicksort(arr))\n",
      "```\n",
      "\n",
      "--------------------------------------------------------------------------------\n"
     ]
    },
    {
     "name": "stderr",
     "output_type": "stream",
     "text": [
      "No default IOStream has been set, defaulting to IOConsole.\n",
      "No default IOStream has been set, defaulting to IOConsole.\n"
     ]
    },
    {
     "name": "stdout",
     "output_type": "stream",
     "text": [
      "\u001B[31m\n",
      ">>>>>>>> EXECUTING CODE BLOCK 0 (inferred language is python)...\u001B[0m\n"
     ]
    },
    {
     "name": "stderr",
     "output_type": "stream",
     "text": [
      "No default IOStream has been set, defaulting to IOConsole.\n"
     ]
    },
    {
     "name": "stdout",
     "output_type": "stream",
     "text": [
      "\u001B[33mUser\u001B[0m (to Coder):\n",
      "\n",
      "exitcode: 0 (execution succeeded)\n",
      "Code output: \n",
      "[1, 1, 2, 3, 6, 8, 10]\n",
      "\n",
      "\n",
      "--------------------------------------------------------------------------------\n"
     ]
    },
    {
     "name": "stderr",
     "output_type": "stream",
     "text": [
      "No default IOStream has been set, defaulting to IOConsole.\n",
      "No default IOStream has been set, defaulting to IOConsole.\n",
      "No default IOStream has been set, defaulting to IOConsole.\n"
     ]
    },
    {
     "name": "stdout",
     "output_type": "stream",
     "text": [
      "\u001B[33mCoder\u001B[0m (to User):\n",
      "\n",
      "TERMINATE\n",
      "\n",
      "--------------------------------------------------------------------------------\n",
      "ChatResult(chat_id=None, chat_history=[{'content': '\\nWrite a function in Python to sort an array of integers using quicksort.\\n', 'role': 'assistant'}, {'content': '```python\\ndef quicksort(arr):\\n    if len(arr) <= 1:\\n        return arr\\n    pivot = arr[len(arr) // 2]\\n    left = [x for x in arr if x < pivot]\\n    middle = [x for x in arr if x == pivot]\\n    right = [x for x in arr if x > pivot]\\n    return quicksort(left) + middle + quicksort(right)\\n\\n# Example usage\\narr = [3, 6, 8, 10, 1, 2, 1]\\nprint(quicksort(arr))\\n```', 'role': 'user'}, {'content': 'exitcode: 0 (execution succeeded)\\nCode output: \\n[1, 1, 2, 3, 6, 8, 10]\\n', 'role': 'assistant'}, {'content': 'TERMINATE', 'role': 'user'}], summary='', cost=({'total_cost': 0.007509999999999999, 'gpt-4-0125-preview': {'cost': 0.007509999999999999, 'prompt_tokens': 379, 'completion_tokens': 124, 'total_tokens': 503}}, {'total_cost': 0.007509999999999999, 'gpt-4-0125-preview': {'cost': 0.007509999999999999, 'prompt_tokens': 379, 'completion_tokens': 124, 'total_tokens': 503}}), human_input=[])\n",
      "---\n",
      "{'content': 'TERMINATE', 'role': 'user'}\n"
     ]
    }
   ],
   "source": [
    "res = user_proxy.initiate_chat(recipient=coder, message=task, max_turns=2, summary_method=\"last_msg\")\n",
    "print(res)\n",
    "print(\"---\")\n",
    "print(user_proxy.last_message(coder))"
   ],
   "metadata": {
    "collapsed": false,
    "ExecuteTime": {
     "end_time": "2024-03-31T18:01:05.917670Z",
     "start_time": "2024-03-31T18:01:00.712334Z"
    }
   },
   "id": "c20279a753870d80",
   "execution_count": 46
  },
  {
   "cell_type": "code",
   "outputs": [],
   "source": [],
   "metadata": {
    "collapsed": false,
    "ExecuteTime": {
     "end_time": "2024-03-31T18:01:05.920825Z",
     "start_time": "2024-03-31T18:01:05.918995Z"
    }
   },
   "id": "7ffc8c04fc938591",
   "execution_count": 46
  }
 ],
 "metadata": {
  "kernelspec": {
   "display_name": "Python 3",
   "language": "python",
   "name": "python3"
  },
  "language_info": {
   "codemirror_mode": {
    "name": "ipython",
    "version": 2
   },
   "file_extension": ".py",
   "mimetype": "text/x-python",
   "name": "python",
   "nbconvert_exporter": "python",
   "pygments_lexer": "ipython2",
   "version": "2.7.6"
  }
 },
 "nbformat": 4,
 "nbformat_minor": 5
}
